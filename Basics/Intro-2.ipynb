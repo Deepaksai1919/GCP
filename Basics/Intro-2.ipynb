{
  "cells": [
    {
      "cell_type": "code",
      "execution_count": null,
      "metadata": {
        "id": "u-zWmeTlqztO"
      },
      "outputs": [],
      "source": [
        "!pip install apache-beam[interactive]"
      ]
    },
    {
      "cell_type": "code",
      "execution_count": 1,
      "metadata": {
        "id": "Pb9zycVOtS-L"
      },
      "outputs": [],
      "source": [
        "import apache_beam as beam"
      ]
    },
    {
      "cell_type": "markdown",
      "metadata": {
        "id": "4tRyFifNtO0v"
      },
      "source": [
        "**Combine Per Key**"
      ]
    },
    {
      "cell_type": "code",
      "execution_count": 3,
      "metadata": {
        "colab": {
          "base_uri": "https://localhost:8080/",
          "height": 260
        },
        "id": "bI7jys4Nq208",
        "outputId": "083a3989-b930-44f7-d873-dfecda17c0c9"
      },
      "outputs": [
        {
          "data": {
            "application/javascript": "\n        if (typeof window.interactive_beam_jquery == 'undefined') {\n          var jqueryScript = document.createElement('script');\n          jqueryScript.src = 'https://code.jquery.com/jquery-3.4.1.slim.min.js';\n          jqueryScript.type = 'text/javascript';\n          jqueryScript.onload = function() {\n            var datatableScript = document.createElement('script');\n            datatableScript.src = 'https://cdn.datatables.net/1.10.20/js/jquery.dataTables.min.js';\n            datatableScript.type = 'text/javascript';\n            datatableScript.onload = function() {\n              window.interactive_beam_jquery = jQuery.noConflict(true);\n              window.interactive_beam_jquery(document).ready(function($){\n                \n              });\n            }\n            document.head.appendChild(datatableScript);\n          };\n          document.head.appendChild(jqueryScript);\n        } else {\n          window.interactive_beam_jquery(document).ready(function($){\n            \n          });\n        }"
          },
          "metadata": {},
          "output_type": "display_data"
        },
        {
          "name": "stdout",
          "output_type": "stream",
          "text": [
            "('LAX', 2)\n",
            "('LAX', 39)\n",
            "('HNL', 15)\n",
            "('DFW', 95)\n",
            "('OGG', 138)\n",
            "('LAX', 19)\n",
            "('JFK', 1)\n",
            "('JFK', 88)\n",
            "('LAX', 18)\n",
            "('JFK', 120)\n",
            "('LAX', 16)\n",
            "('JFK', 11)\n"
          ]
        },
        {
          "data": {
            "text/plain": [
              "<apache_beam.runners.portability.fn_api_runner.fn_runner.RunnerResult at 0x7fd6802ddc60>"
            ]
          },
          "execution_count": 3,
          "metadata": {},
          "output_type": "execute_result"
        }
      ],
      "source": [
        "p1 = beam.Pipeline()\n",
        "\n",
        "delayed_time = (\n",
        "    p1\n",
        "    | 'Import Data' >> beam.io.ReadFromText('flights_sample.csv')\n",
        "    | 'Split by ,' >> beam.Map(lambda record: record.split(','))\n",
        "    | 'Filter Delays' >> beam.Filter(lambda record: int(record[8]) > 0)\n",
        "    | 'Create Key-Value pair' >> beam.Map(lambda record: (record[4], int(record[8])))\n",
        "    # | 'Combine Per Key' >> beam.CombinePerKey(sum)\n",
        "    | 'Print Results' >> beam.Map(print)\n",
        ")\n",
        "\n",
        "p1.run()"
      ]
    },
    {
      "cell_type": "markdown",
      "metadata": {
        "id": "SJyf4ezvvA2z"
      },
      "source": [
        "Sum of delayed time"
      ]
    },
    {
      "cell_type": "code",
      "execution_count": 4,
      "metadata": {
        "colab": {
          "base_uri": "https://localhost:8080/"
        },
        "id": "Lv7QCXAHual2",
        "outputId": "b32b9a47-cc44-49ba-a5b7-cf11981febe8"
      },
      "outputs": [
        {
          "name": "stdout",
          "output_type": "stream",
          "text": [
            "('LAX', 94)\n",
            "('HNL', 15)\n",
            "('DFW', 95)\n",
            "('OGG', 138)\n",
            "('JFK', 220)\n"
          ]
        },
        {
          "data": {
            "text/plain": [
              "<apache_beam.runners.portability.fn_api_runner.fn_runner.RunnerResult at 0x7fd68030e410>"
            ]
          },
          "execution_count": 4,
          "metadata": {},
          "output_type": "execute_result"
        }
      ],
      "source": [
        "p2 = beam.Pipeline()\n",
        "\n",
        "delayed_time = (\n",
        "    p2\n",
        "    | 'Import Data' >> beam.io.ReadFromText('flights_sample.csv')\n",
        "    | 'Split by ,' >> beam.Map(lambda record: record.split(','))\n",
        "    | 'Filter Delays' >> beam.Filter(lambda record: int(record[8]) > 0)\n",
        "    | 'Create Key-Value pair' >> beam.Map(lambda record: (record[4], int(record[8])))\n",
        "    | 'Combine Per Key' >> beam.CombinePerKey(sum)\n",
        "    | 'Print Results' >> beam.Map(print)\n",
        ")\n",
        "\n",
        "p2.run()"
      ]
    },
    {
      "cell_type": "markdown",
      "metadata": {
        "id": "BTxhb1KivDmH"
      },
      "source": [
        "Max delayed time"
      ]
    },
    {
      "cell_type": "code",
      "execution_count": 5,
      "metadata": {
        "colab": {
          "base_uri": "https://localhost:8080/"
        },
        "id": "HyWFDLUMuh52",
        "outputId": "9e9a9725-357a-4d6a-b0c9-37d2640f7ad7"
      },
      "outputs": [
        {
          "name": "stdout",
          "output_type": "stream",
          "text": [
            "('LAX', 39)\n",
            "('HNL', 15)\n",
            "('DFW', 95)\n",
            "('OGG', 138)\n",
            "('JFK', 120)\n"
          ]
        },
        {
          "data": {
            "text/plain": [
              "<apache_beam.runners.portability.fn_api_runner.fn_runner.RunnerResult at 0x7fd680e7ff10>"
            ]
          },
          "execution_count": 5,
          "metadata": {},
          "output_type": "execute_result"
        }
      ],
      "source": [
        "p3 = beam.Pipeline()\n",
        "\n",
        "max_delayed_time = (\n",
        "    p3\n",
        "    | 'Import Data' >> beam.io.ReadFromText('flights_sample.csv')\n",
        "    | 'Split by ,' >> beam.Map(lambda record: record.split(','))\n",
        "    | 'Filter Delays' >> beam.Filter(lambda record: int(record[8]) > 0)\n",
        "    | 'Create Key-Value pair' >> beam.Map(lambda record: (record[4], int(record[8])))\n",
        "    | 'Combine Per Key' >> beam.CombinePerKey(max)\n",
        "    | 'Print Results' >> beam.Map(print)\n",
        ")\n",
        "\n",
        "p3.run()"
      ]
    },
    {
      "cell_type": "markdown",
      "metadata": {
        "id": "yvKrSTJrwOUj"
      },
      "source": [
        "**combiners.Count.PerKey**"
      ]
    },
    {
      "cell_type": "code",
      "execution_count": 6,
      "metadata": {
        "colab": {
          "base_uri": "https://localhost:8080/"
        },
        "id": "qE-RYXtvvntq",
        "outputId": "5b17eb29-0f32-4f37-9e1f-6000e77e0577"
      },
      "outputs": [
        {
          "name": "stdout",
          "output_type": "stream",
          "text": [
            "('LAX', 5)\n",
            "('HNL', 1)\n",
            "('DFW', 1)\n",
            "('OGG', 1)\n",
            "('JFK', 4)\n"
          ]
        },
        {
          "data": {
            "text/plain": [
              "<apache_beam.runners.portability.fn_api_runner.fn_runner.RunnerResult at 0x7fd6802dcd00>"
            ]
          },
          "execution_count": 6,
          "metadata": {},
          "output_type": "execute_result"
        }
      ],
      "source": [
        "p4 = beam.Pipeline()\n",
        "\n",
        "count_delayed_time = (\n",
        "    p4\n",
        "    | 'Import Data' >> beam.io.ReadFromText('flights_sample.csv')\n",
        "    | 'Split by ,' >> beam.Map(lambda record: record.split(','))\n",
        "    | 'Filter Delays' >> beam.Filter(lambda record: int(record[8]) > 0)\n",
        "    | 'Create Key-Value pair' >> beam.Map(lambda record: (record[4], int(record[8])))\n",
        "    | 'Count Per Key' >> beam.combiners.Count.PerKey()\n",
        "    | 'Print Results' >> beam.Map(print)\n",
        ")\n",
        "\n",
        "p4.run()"
      ]
    },
    {
      "cell_type": "markdown",
      "metadata": {
        "id": "zMkNKUK6w9yY"
      },
      "source": [
        "**CoGroupByKey**"
      ]
    },
    {
      "cell_type": "code",
      "execution_count": 7,
      "metadata": {
        "colab": {
          "base_uri": "https://localhost:8080/"
        },
        "id": "GNdGokZCwvmH",
        "outputId": "886f918d-c0d6-4aa2-a50b-98a5690d1678"
      },
      "outputs": [
        {
          "name": "stdout",
          "output_type": "stream",
          "text": [
            "('LAX', {'delayed_num': [5], 'delayed_time': [94]})\n",
            "('HNL', {'delayed_num': [1], 'delayed_time': [15]})\n",
            "('DFW', {'delayed_num': [1], 'delayed_time': [95]})\n",
            "('OGG', {'delayed_num': [1], 'delayed_time': [138]})\n",
            "('JFK', {'delayed_num': [4], 'delayed_time': [220]})\n"
          ]
        },
        {
          "data": {
            "text/plain": [
              "<apache_beam.runners.portability.fn_api_runner.fn_runner.RunnerResult at 0x7fd67f2adfc0>"
            ]
          },
          "execution_count": 7,
          "metadata": {},
          "output_type": "execute_result"
        }
      ],
      "source": [
        "p5 = beam.Pipeline()\n",
        "\n",
        "flight_delay_pc_kv = (\n",
        "    p5\n",
        "    | 'Import Data' >> beam.io.ReadFromText('flights_sample.csv')\n",
        "    | 'Split by ,' >> beam.Map(lambda record: record.split(','))\n",
        "    | 'Filter Delays' >> beam.Filter(lambda record: int(record[8]) > 0)\n",
        "    | 'Create Key-Value pair' >> beam.Map(lambda record: (record[4], int(record[8])))\n",
        ")\n",
        "\n",
        "total_delayed_time = (\n",
        "    flight_delay_pc_kv\n",
        "    | 'Combine Per Key' >> beam.CombinePerKey(sum)\n",
        ")\n",
        "\n",
        "count_delayed_time = (\n",
        "    flight_delay_pc_kv\n",
        "    | 'Count Per Key' >> beam.combiners.Count.PerKey()\n",
        ")\n",
        "\n",
        "delay_table = (\n",
        "    {'delayed_num': count_delayed_time, 'delayed_time': total_delayed_time}\n",
        "    | beam.CoGroupByKey()\n",
        "    | beam.Map(print)\n",
        ")\n",
        "\n",
        "p5.run()"
      ]
    },
    {
      "cell_type": "markdown",
      "metadata": {
        "id": "_ukx6uPEFw0B"
      },
      "source": [
        "**ParDo** (Parallely Do Something)"
      ]
    },
    {
      "cell_type": "code",
      "execution_count": 9,
      "metadata": {
        "colab": {
          "base_uri": "https://localhost:8080/"
        },
        "id": "jGghv5IeCYUp",
        "outputId": "03c651ab-4ff5-46f4-9b4a-017ae567d562"
      },
      "outputs": [
        {
          "name": "stdout",
          "output_type": "stream",
          "text": [
            "('LAX', {'delayed_num': [5], 'delayed_time': [94]})\n",
            "('HNL', {'delayed_num': [1], 'delayed_time': [15]})\n",
            "('DFW', {'delayed_num': [1], 'delayed_time': [95]})\n",
            "('OGG', {'delayed_num': [1], 'delayed_time': [138]})\n",
            "('JFK', {'delayed_num': [4], 'delayed_time': [220]})\n"
          ]
        },
        {
          "data": {
            "text/plain": [
              "<apache_beam.runners.portability.fn_api_runner.fn_runner.RunnerResult at 0x7fd68030df90>"
            ]
          },
          "execution_count": 9,
          "metadata": {},
          "output_type": "execute_result"
        }
      ],
      "source": [
        "p6 = beam.Pipeline()\n",
        "\n",
        "class Filter(beam.DoFn):\n",
        "  def process(self, record):\n",
        "    if int(record[8]) > 0:\n",
        "      return [record]\n",
        "\n",
        "flight_delay_pc_kv = (\n",
        "    p6\n",
        "    | 'Import Data' >> beam.io.ReadFromText('flights_sample.csv')\n",
        "    | 'Split by ,' >> beam.Map(lambda record: record.split(','))\n",
        "    | 'Filter Delays' >> beam.ParDo(Filter())\n",
        "    | 'Create Key-Value pair' >> beam.Map(lambda record: (record[4], int(record[8])))\n",
        ")\n",
        "\n",
        "total_delayed_time = (\n",
        "    flight_delay_pc_kv\n",
        "    | 'Combine Per Key' >> beam.CombinePerKey(sum)\n",
        ")\n",
        "\n",
        "count_delayed_time = (\n",
        "    flight_delay_pc_kv\n",
        "    | 'Count Per Key' >> beam.combiners.Count.PerKey()\n",
        ")\n",
        "\n",
        "delay_table = (\n",
        "    {'delayed_num': count_delayed_time, 'delayed_time': total_delayed_time}\n",
        "    | beam.CoGroupByKey()\n",
        "    | beam.Map(print)\n",
        ")\n",
        "\n",
        "p6.run()"
      ]
    }
  ],
  "metadata": {
    "colab": {
      "provenance": []
    },
    "kernelspec": {
      "display_name": "Python 3",
      "name": "python3"
    },
    "language_info": {
      "name": "python"
    }
  },
  "nbformat": 4,
  "nbformat_minor": 0
}
