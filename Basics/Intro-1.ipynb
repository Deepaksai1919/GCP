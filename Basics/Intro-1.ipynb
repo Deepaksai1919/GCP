{
  "nbformat": 4,
  "nbformat_minor": 0,
  "metadata": {
    "colab": {
      "provenance": []
    },
    "kernelspec": {
      "name": "python3",
      "display_name": "Python 3"
    },
    "language_info": {
      "name": "python"
    }
  },
  "cells": [
    {
      "cell_type": "code",
      "execution_count": null,
      "metadata": {
        "id": "uD64_PUHITsF"
      },
      "outputs": [],
      "source": [
        "!pip install apache-beam[interactive]"
      ]
    },
    {
      "cell_type": "code",
      "source": [
        "import apache_beam as beam\n",
        "\n",
        "pipeline = beam.Pipeline()\n",
        "pipeline | 'Tuple' >> beam.Create([ ('Casio', 32), ('Vics', 31)]) | beam.Map(print)\n",
        "pipeline.run()"
      ],
      "metadata": {
        "colab": {
          "base_uri": "https://localhost:8080/",
          "height": 86
        },
        "id": "auQSthWRI7TE",
        "outputId": "6318a38b-111d-49cc-b539-dc1bbb9c9eaf"
      },
      "execution_count": null,
      "outputs": [
        {
          "output_type": "display_data",
          "data": {
            "application/javascript": [
              "\n",
              "        if (typeof window.interactive_beam_jquery == 'undefined') {\n",
              "          var jqueryScript = document.createElement('script');\n",
              "          jqueryScript.src = 'https://code.jquery.com/jquery-3.4.1.slim.min.js';\n",
              "          jqueryScript.type = 'text/javascript';\n",
              "          jqueryScript.onload = function() {\n",
              "            var datatableScript = document.createElement('script');\n",
              "            datatableScript.src = 'https://cdn.datatables.net/1.10.20/js/jquery.dataTables.min.js';\n",
              "            datatableScript.type = 'text/javascript';\n",
              "            datatableScript.onload = function() {\n",
              "              window.interactive_beam_jquery = jQuery.noConflict(true);\n",
              "              window.interactive_beam_jquery(document).ready(function($){\n",
              "                \n",
              "              });\n",
              "            }\n",
              "            document.head.appendChild(datatableScript);\n",
              "          };\n",
              "          document.head.appendChild(jqueryScript);\n",
              "        } else {\n",
              "          window.interactive_beam_jquery(document).ready(function($){\n",
              "            \n",
              "          });\n",
              "        }"
            ]
          },
          "metadata": {}
        },
        {
          "output_type": "stream",
          "name": "stdout",
          "text": [
            "('Casio', 32)\n",
            "('Vics', 31)\n"
          ]
        },
        {
          "output_type": "execute_result",
          "data": {
            "text/plain": [
              "<apache_beam.runners.portability.fn_api_runner.fn_runner.RunnerResult at 0x7f4425183b50>"
            ]
          },
          "metadata": {},
          "execution_count": 1
        }
      ]
    },
    {
      "cell_type": "code",
      "source": [
        "p2 = beam.Pipeline()\n",
        "p2 | 'List' >> beam.Create([1,2,3,4]) | beam.Map(print)\n",
        "p2.run()"
      ],
      "metadata": {
        "colab": {
          "base_uri": "https://localhost:8080/"
        },
        "id": "cpFJg8OxMp6h",
        "outputId": "33d0a152-a925-454a-d3b8-2ab834769f2d"
      },
      "execution_count": null,
      "outputs": [
        {
          "output_type": "stream",
          "name": "stdout",
          "text": [
            "1\n",
            "2\n",
            "3\n",
            "4\n"
          ]
        },
        {
          "output_type": "execute_result",
          "data": {
            "text/plain": [
              "<apache_beam.runners.portability.fn_api_runner.fn_runner.RunnerResult at 0x7f4423d8be20>"
            ]
          },
          "metadata": {},
          "execution_count": 3
        }
      ]
    },
    {
      "cell_type": "markdown",
      "source": [
        "**Map**"
      ],
      "metadata": {
        "id": "0Fi-LBmdRhAY"
      }
    },
    {
      "cell_type": "code",
      "source": [
        "p3 = beam.Pipeline()\n",
        "flights_data = (\n",
        "    p3\n",
        "    | 'Import Data' >> beam.io.ReadFromText('flights_sample.csv')\n",
        "    | 'Split by ,' >> beam.Map(lambda record: record.split(','))\n",
        "    | 'Print Data' >> beam.Map(print)\n",
        ")\n",
        "p3.run()"
      ],
      "metadata": {
        "colab": {
          "base_uri": "https://localhost:8080/"
        },
        "id": "gj9e1O4LNGqO",
        "outputId": "afa24bf8-b4b7-4954-80df-b5c86c14c7c9"
      },
      "execution_count": null,
      "outputs": [
        {
          "output_type": "stream",
          "name": "stdout",
          "text": [
            "['2019-04-27', '19805', '1', 'JFK', 'LAX', '854', '-6', '1217', '2', '355', '2475', '1']\n",
            "['2019-04-27', '19805', '2', 'LAX', 'JFK', '944', '14', '1736', '-29', '269', '2475', '2']\n",
            "['2019-04-27', '19805', '3', 'JFK', 'LAX', '1224', '-6', '1614', '39', '371', '2475', '3']\n",
            "['2019-04-27', '19805', '4', 'LAX', 'JFK', '1240', '25', '2028', '-27', '264', '2475', '4']\n",
            "['2019-04-27', '19805', '5', 'DFW', 'HNL', '1300', '-5', '1650', '15', '510', '3784', '5']\n",
            "['2019-04-27', '19805', '6', 'OGG', 'DFW', '1901', '126', '640', '95', '385', '3711', '6']\n",
            "['2019-04-27', '19805', '7', 'DFW', 'OGG', '1410', '125', '1743', '138', '497', '3711', '7']\n",
            "['2019-04-27', '19805', '8', 'HNL', 'DFW', '1659', '4', '458', '-22', '398', '3784', '8']\n",
            "['2019-04-27', '19805', '9', 'JFK', 'LAX', '648', '-7', '1029', '19', '365', '2475', '9']\n",
            "['2019-04-27', '19805', '10', 'LAX', 'JFK', '2156', '21', '556', '1', '265', '2475', '10']\n",
            "['2019-04-27', '19805', '12', 'LAX', 'JFK', '1113', '-2', '1910', '-40', '267', '2475', '11']\n",
            "['2019-04-27', '19805', '14', 'OGG', 'LAX', '2235', '5', '618', '-17', '270', '2486', '12']\n",
            "['2019-04-27', '19805', '15', 'BOS', 'ORD', '611', '-9', '756', '-19', '129', '867', '13']\n",
            "['2019-04-27', '19805', '16', 'SFO', 'JFK', '1312', '17', '2107', '-33', '268', '2586', '14']\n",
            "['2019-04-27', '19805', '17', 'ATL', 'MIA', '630', '-5', '813', '-17', '83', '594', '15']\n",
            "['2019-04-27', '19805', '18', 'SFO', 'JFK', '22', '112', '833', '88', '288', '2586', '16']\n",
            "['2019-04-27', '19805', '19', 'JFK', 'LAX', '1024', '-6', '1353', '18', '359', '2475', '17']\n",
            "['2019-04-27', '19805', '20', 'SFO', 'JFK', '1715', '135', '130', '120', '277', '2586', '18']\n",
            "['2019-04-27', '19805', '21', 'JFK', 'LAX', '1906', '-4', '2246', '16', '359', '2475', '19']\n",
            "['2019-04-27', '19805', '22', 'LAX', 'JFK', '1458', '-2', '2336', '11', '272', '2475', '20']\n"
          ]
        },
        {
          "output_type": "execute_result",
          "data": {
            "text/plain": [
              "<apache_beam.runners.portability.fn_api_runner.fn_runner.RunnerResult at 0x7f4423ccc0d0>"
            ]
          },
          "metadata": {},
          "execution_count": 5
        }
      ]
    },
    {
      "cell_type": "code",
      "source": [
        "p4 = beam.Pipeline()\n",
        "flights_data = (\n",
        "    p4\n",
        "    | 'Import Data' >> beam.io.ReadFromText('flights_sample.csv')\n",
        "    | 'Split by ,' >> beam.Map(lambda record: record.split(','))\n",
        "    | 'Write Data' >> beam.io.WriteToText('Flights.txt')\n",
        ")\n",
        "p4.run()"
      ],
      "metadata": {
        "colab": {
          "base_uri": "https://localhost:8080/"
        },
        "id": "-WqvFvxROoxJ",
        "outputId": "2b76af0a-c602-43f0-c0e5-4e5eec987342"
      },
      "execution_count": 7,
      "outputs": [
        {
          "output_type": "execute_result",
          "data": {
            "text/plain": [
              "<apache_beam.runners.portability.fn_api_runner.fn_runner.RunnerResult at 0x7f4423b58640>"
            ]
          },
          "metadata": {},
          "execution_count": 7
        }
      ]
    },
    {
      "cell_type": "code",
      "source": [
        "!ls"
      ],
      "metadata": {
        "id": "nAKlY_IxO-s2",
        "colab": {
          "base_uri": "https://localhost:8080/"
        },
        "outputId": "457dc235-35bc-40c1-dd04-cf253c262299"
      },
      "execution_count": 8,
      "outputs": [
        {
          "output_type": "stream",
          "name": "stdout",
          "text": [
            "flights_sample.csv  Flights.txt-00000-of-00001\tsample_data\n"
          ]
        }
      ]
    },
    {
      "cell_type": "code",
      "source": [
        "!cat Flights.txt-00000-of-00001"
      ],
      "metadata": {
        "colab": {
          "base_uri": "https://localhost:8080/"
        },
        "id": "o2HhGWuZPc9T",
        "outputId": "df5b4dde-431c-4702-e923-5c846ded5352"
      },
      "execution_count": 9,
      "outputs": [
        {
          "output_type": "stream",
          "name": "stdout",
          "text": [
            "['2019-04-27', '19805', '1', 'JFK', 'LAX', '854', '-6', '1217', '2', '355', '2475', '1']\n",
            "['2019-04-27', '19805', '2', 'LAX', 'JFK', '944', '14', '1736', '-29', '269', '2475', '2']\n",
            "['2019-04-27', '19805', '3', 'JFK', 'LAX', '1224', '-6', '1614', '39', '371', '2475', '3']\n",
            "['2019-04-27', '19805', '4', 'LAX', 'JFK', '1240', '25', '2028', '-27', '264', '2475', '4']\n",
            "['2019-04-27', '19805', '5', 'DFW', 'HNL', '1300', '-5', '1650', '15', '510', '3784', '5']\n",
            "['2019-04-27', '19805', '6', 'OGG', 'DFW', '1901', '126', '640', '95', '385', '3711', '6']\n",
            "['2019-04-27', '19805', '7', 'DFW', 'OGG', '1410', '125', '1743', '138', '497', '3711', '7']\n",
            "['2019-04-27', '19805', '8', 'HNL', 'DFW', '1659', '4', '458', '-22', '398', '3784', '8']\n",
            "['2019-04-27', '19805', '9', 'JFK', 'LAX', '648', '-7', '1029', '19', '365', '2475', '9']\n",
            "['2019-04-27', '19805', '10', 'LAX', 'JFK', '2156', '21', '556', '1', '265', '2475', '10']\n",
            "['2019-04-27', '19805', '12', 'LAX', 'JFK', '1113', '-2', '1910', '-40', '267', '2475', '11']\n",
            "['2019-04-27', '19805', '14', 'OGG', 'LAX', '2235', '5', '618', '-17', '270', '2486', '12']\n",
            "['2019-04-27', '19805', '15', 'BOS', 'ORD', '611', '-9', '756', '-19', '129', '867', '13']\n",
            "['2019-04-27', '19805', '16', 'SFO', 'JFK', '1312', '17', '2107', '-33', '268', '2586', '14']\n",
            "['2019-04-27', '19805', '17', 'ATL', 'MIA', '630', '-5', '813', '-17', '83', '594', '15']\n",
            "['2019-04-27', '19805', '18', 'SFO', 'JFK', '22', '112', '833', '88', '288', '2586', '16']\n",
            "['2019-04-27', '19805', '19', 'JFK', 'LAX', '1024', '-6', '1353', '18', '359', '2475', '17']\n",
            "['2019-04-27', '19805', '20', 'SFO', 'JFK', '1715', '135', '130', '120', '277', '2586', '18']\n",
            "['2019-04-27', '19805', '21', 'JFK', 'LAX', '1906', '-4', '2246', '16', '359', '2475', '19']\n",
            "['2019-04-27', '19805', '22', 'LAX', 'JFK', '1458', '-2', '2336', '11', '272', '2475', '20']\n"
          ]
        }
      ]
    },
    {
      "cell_type": "code",
      "source": [
        "p5 = beam.Pipeline()\n",
        "poem_data = (\n",
        "    p5\n",
        "    | 'Read Data' >> beam.io.ReadFromText('Poem.txt')\n",
        "    | 'Print Data' >> beam.Map(print)\n",
        ")\n",
        "\n",
        "p5.run()"
      ],
      "metadata": {
        "colab": {
          "base_uri": "https://localhost:8080/"
        },
        "id": "18_VGmnmPi7w",
        "outputId": "be1b688f-0a8b-44d5-e928-2446894abe46"
      },
      "execution_count": 12,
      "outputs": [
        {
          "output_type": "stream",
          "name": "stdout",
          "text": [
            "Há quatro quadros três e três quadros quatro. \n",
            "Sendo que quatro destes quadros são quadrados,\n",
            " um dos quadros quatro e três dos quadros três.\n",
            " Os três quadros que não são quadrados,\n",
            " são dois dos quadros quatro e um dos quadros três.\n"
          ]
        },
        {
          "output_type": "execute_result",
          "data": {
            "text/plain": [
              "<apache_beam.runners.portability.fn_api_runner.fn_runner.RunnerResult at 0x7f4423ce84c0>"
            ]
          },
          "metadata": {},
          "execution_count": 12
        }
      ]
    },
    {
      "cell_type": "markdown",
      "source": [
        "**Flat Map**"
      ],
      "metadata": {
        "id": "hzP48qprRcUw"
      }
    },
    {
      "cell_type": "code",
      "source": [
        "p6 = beam.Pipeline()\n",
        "poem_data = (\n",
        "    p6\n",
        "    | 'Read Data' >> beam.io.ReadFromText('Poem.txt')\n",
        "    | 'Flat Map' >> beam.FlatMap(lambda record: record.split())\n",
        "    | 'Print Data' >> beam.Map(print)\n",
        ")\n",
        "\n",
        "p6.run()"
      ],
      "metadata": {
        "colab": {
          "base_uri": "https://localhost:8080/"
        },
        "id": "kpJgux1eQZXH",
        "outputId": "7f02ea7a-57cf-4611-8bcd-f9568f941d07"
      },
      "execution_count": 13,
      "outputs": [
        {
          "output_type": "stream",
          "name": "stdout",
          "text": [
            "Há\n",
            "quatro\n",
            "quadros\n",
            "três\n",
            "e\n",
            "três\n",
            "quadros\n",
            "quatro.\n",
            "Sendo\n",
            "que\n",
            "quatro\n",
            "destes\n",
            "quadros\n",
            "são\n",
            "quadrados,\n",
            "um\n",
            "dos\n",
            "quadros\n",
            "quatro\n",
            "e\n",
            "três\n",
            "dos\n",
            "quadros\n",
            "três.\n",
            "Os\n",
            "três\n",
            "quadros\n",
            "que\n",
            "não\n",
            "são\n",
            "quadrados,\n",
            "são\n",
            "dois\n",
            "dos\n",
            "quadros\n",
            "quatro\n",
            "e\n",
            "um\n",
            "dos\n",
            "quadros\n",
            "três.\n"
          ]
        },
        {
          "output_type": "execute_result",
          "data": {
            "text/plain": [
              "<apache_beam.runners.portability.fn_api_runner.fn_runner.RunnerResult at 0x7f44224c2ef0>"
            ]
          },
          "metadata": {},
          "execution_count": 13
        }
      ]
    },
    {
      "cell_type": "markdown",
      "source": [
        "**Filter**"
      ],
      "metadata": {
        "id": "n5lQjAaRSS08"
      }
    },
    {
      "cell_type": "code",
      "source": [
        "p7 = beam.Pipeline()\n",
        "flights = (\n",
        "    p7\n",
        "    | 'Read Data' >> beam.io.ReadFromText('flights_sample.csv')\n",
        "    | 'Split by ,' >> beam.Map(lambda record: record.split(','))\n",
        "    | 'Filter LA Flights' >> beam.Filter(lambda record: record[3] == 'LAX')\n",
        "    | 'Print Results' >> beam.Map(print)\n",
        ")\n",
        "p7.run()"
      ],
      "metadata": {
        "colab": {
          "base_uri": "https://localhost:8080/"
        },
        "id": "yTf05rFXQ4Sv",
        "outputId": "1599a05d-4c61-41f0-c072-c1d0e743bd48"
      },
      "execution_count": 14,
      "outputs": [
        {
          "output_type": "stream",
          "name": "stdout",
          "text": [
            "['2019-04-27', '19805', '2', 'LAX', 'JFK', '944', '14', '1736', '-29', '269', '2475', '2']\n",
            "['2019-04-27', '19805', '4', 'LAX', 'JFK', '1240', '25', '2028', '-27', '264', '2475', '4']\n",
            "['2019-04-27', '19805', '10', 'LAX', 'JFK', '2156', '21', '556', '1', '265', '2475', '10']\n",
            "['2019-04-27', '19805', '12', 'LAX', 'JFK', '1113', '-2', '1910', '-40', '267', '2475', '11']\n",
            "['2019-04-27', '19805', '22', 'LAX', 'JFK', '1458', '-2', '2336', '11', '272', '2475', '20']\n"
          ]
        },
        {
          "output_type": "execute_result",
          "data": {
            "text/plain": [
              "<apache_beam.runners.portability.fn_api_runner.fn_runner.RunnerResult at 0x7f4422994c70>"
            ]
          },
          "metadata": {},
          "execution_count": 14
        }
      ]
    },
    {
      "cell_type": "code",
      "source": [
        "p8 = beam.Pipeline()\n",
        "\n",
        "required_words = ['quatro', 'um']\n",
        "def get_word(word):\n",
        "  return word in required_words\n",
        "\n",
        "poem = (\n",
        "    p8\n",
        "    | 'Read Data' >> beam.io.ReadFromText('Poem.txt')\n",
        "    | 'Get Words' >> beam.FlatMap(lambda record: record.split())\n",
        "    | 'Filter Words' >> beam.Filter(get_word)\n",
        "    | 'Print Result' >> beam.Map(print)\n",
        ")\n",
        "p8.run()"
      ],
      "metadata": {
        "colab": {
          "base_uri": "https://localhost:8080/"
        },
        "id": "xp6mWKQNTDet",
        "outputId": "ac367cdb-f19d-4890-df3f-d5b35993ed35"
      },
      "execution_count": 15,
      "outputs": [
        {
          "output_type": "stream",
          "name": "stdout",
          "text": [
            "quatro\n",
            "quatro\n",
            "um\n",
            "quatro\n",
            "quatro\n",
            "um\n"
          ]
        },
        {
          "output_type": "execute_result",
          "data": {
            "text/plain": [
              "<apache_beam.runners.portability.fn_api_runner.fn_runner.RunnerResult at 0x7f442251ffd0>"
            ]
          },
          "metadata": {},
          "execution_count": 15
        }
      ]
    },
    {
      "cell_type": "markdown",
      "source": [
        "**Flatten** (Works like Union)"
      ],
      "metadata": {
        "id": "IXRYBBgImM2k"
      }
    },
    {
      "cell_type": "code",
      "source": [
        "p9 = beam.Pipeline()\n",
        "\n",
        "black = ('Adao', 'Jesus', 'Mike')\n",
        "white = ('Tulio', 'Mary', 'Joca')\n",
        "first_nations = ('Vic', 'Marta', 'Tom')\n",
        "\n",
        "black_pc = p9 | 'Create Black PCollection' >> beam.Create(black)\n",
        "white_pc = p9 | 'Create White PCollection' >> beam.Create(white)\n",
        "first_nations_pc = p9 | 'Create First Nations PCollection' >> beam.Create(first_nations)\n",
        "\n",
        "people_pc = (\n",
        "    (black_pc, white_pc, first_nations_pc)\n",
        "    | beam.Flatten()\n",
        "    | beam.Map(print)\n",
        ")\n",
        "\n",
        "p9.run()"
      ],
      "metadata": {
        "colab": {
          "base_uri": "https://localhost:8080/"
        },
        "id": "nm9sCrZHT_1M",
        "outputId": "baf6e64b-b71a-408b-8161-dc4250abc685"
      },
      "execution_count": 20,
      "outputs": [
        {
          "output_type": "stream",
          "name": "stdout",
          "text": [
            "Tulio\n",
            "Mary\n",
            "Joca\n",
            "Adao\n",
            "Jesus\n",
            "Mike\n",
            "Vic\n",
            "Marta\n",
            "Tom\n"
          ]
        },
        {
          "output_type": "execute_result",
          "data": {
            "text/plain": [
              "<apache_beam.runners.portability.fn_api_runner.fn_runner.RunnerResult at 0x7f4420cbf3a0>"
            ]
          },
          "metadata": {},
          "execution_count": 20
        }
      ]
    }
  ]
}